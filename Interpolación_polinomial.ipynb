{
  "nbformat": 4,
  "nbformat_minor": 0,
  "metadata": {
    "colab": {
      "provenance": [],
      "include_colab_link": true
    },
    "kernelspec": {
      "name": "python3",
      "display_name": "Python 3"
    },
    "language_info": {
      "name": "python"
    }
  },
  "cells": [
    {
      "cell_type": "markdown",
      "metadata": {
        "id": "view-in-github",
        "colab_type": "text"
      },
      "source": [
        "<a href=\"https://colab.research.google.com/github/Massinger06/NumericalMethods/blob/main/Interpolaci%C3%B3n_polinomial.ipynb\" target=\"_parent\"><img src=\"https://colab.research.google.com/assets/colab-badge.svg\" alt=\"Open In Colab\"/></a>"
      ]
    },
    {
      "cell_type": "code",
      "source": [
        "#Cálculo de las diferencias divididas de una función f\n",
        "\n",
        "#Estas cantidades representas los coeficientes del polinomio\n",
        "#de interpolación en la forma de Newton\n",
        "\n",
        "import numpy as np\n",
        "\n",
        "x = (0,1,-1,2,-2)\n",
        "y = (-5,-3,-15,39,-9)\n",
        "\n",
        "n = 4 #Orden del polinomio de interpolación\n",
        "\n",
        "a = list(np.zeros(n+1))\n",
        "\n",
        "for i in range(0,n+1):\n",
        "  a[i] = y[i]\n",
        "\n",
        "for j in range(1,n+1):\n",
        "  for i in range(n,j-1,-1):\n",
        "    a[i] = (a[i]-a[i-1])/(x[i]-x[i-j])\n",
        "\n",
        "print(a)\n"
      ],
      "metadata": {
        "colab": {
          "base_uri": "https://localhost:8080/"
        },
        "id": "TC6kOIybY3qt",
        "outputId": "5b08f5b2-304c-4a20-dec4-94c7d918c96a"
      },
      "execution_count": null,
      "outputs": [
        {
          "output_type": "stream",
          "name": "stdout",
          "text": [
            "[-5, 2.0, -4.0, 8.0, 3.0]\n"
          ]
        }
      ]
    },
    {
      "cell_type": "code",
      "source": [
        "#Evaluación de un polinomio en la forma de Newton anidada\n",
        "\n",
        "#Valor a evaluar\n",
        "t = 3\n",
        "\n",
        "p = a[n]\n",
        "for i in range(n-1,-1,-1):\n",
        "  p = p*(t-x[i]) + a[i]\n",
        "\n",
        "print('El valor del polinomio en x =', t, 'es',p,'.')"
      ],
      "metadata": {
        "colab": {
          "base_uri": "https://localhost:8080/"
        },
        "id": "EXsWMpVHTfUj",
        "outputId": "59a15804-1f5f-4392-fbd5-bc961d8b1819"
      },
      "execution_count": null,
      "outputs": [
        {
          "output_type": "stream",
          "name": "stdout",
          "text": [
            "El valor del polinomio en x = 3 es 241.0 .\n"
          ]
        }
      ]
    }
  ]
}