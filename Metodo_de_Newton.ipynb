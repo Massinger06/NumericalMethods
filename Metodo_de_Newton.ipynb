{
  "nbformat": 4,
  "nbformat_minor": 0,
  "metadata": {
    "colab": {
      "provenance": [],
      "include_colab_link": true
    },
    "kernelspec": {
      "name": "python3",
      "display_name": "Python 3"
    },
    "language_info": {
      "name": "python"
    }
  },
  "cells": [
    {
      "cell_type": "markdown",
      "metadata": {
        "id": "view-in-github",
        "colab_type": "text"
      },
      "source": [
        "<a href=\"https://colab.research.google.com/github/Massinger06/NumericalMethods/blob/main/Metodo_de_Newton.ipynb\" target=\"_parent\"><img src=\"https://colab.research.google.com/assets/colab-badge.svg\" alt=\"Open In Colab\"/></a>"
      ]
    },
    {
      "cell_type": "code",
      "execution_count": null,
      "metadata": {
        "colab": {
          "base_uri": "https://localhost:8080/"
        },
        "id": "Uat0kjTpQirT",
        "outputId": "2b16bc12-9a93-4964-d20b-0d487ef2377f"
      },
      "outputs": [
        {
          "output_type": "stream",
          "name": "stdout",
          "text": [
            "0    1.50000000e+00      1.38001003e+00      6.60852560e+00      \n",
            "1    1.29117732e+00      2.30250583e-01      4.44943767e+00      2.08822680e-01      \n",
            "2    1.23942908e+00      1.27948333e-02      3.95788090e+00      5.17482434e-02      \n",
            "3    1.23619633e+00      4.87032380e-05      3.92776133e+00      3.23274844e-03      \n",
            "4    1.23618393e+00      7.15433712e-10      3.92764593e+00      1.23997448e-05      \n",
            "5    1.23618393e+00      -2.22044605e-16     3.92764593e+00      1.82153311e-10      \n",
            "\n",
            "¡Convergencia! Se ha alcanzado la precisión requerida.\n"
          ]
        }
      ],
      "source": [
        "import math as m\n",
        "\n",
        "def f(x):\n",
        "  \"\"\"Función a la cual se le va a aplicar el método de Newton-Raphson\n",
        "  para hallar una raíz cerca al punto x0\"\"\"\n",
        "  return x**3-2*m.sin(x)\n",
        "\n",
        "def g(x):\n",
        "  \"\"\"Derivada de la función a la cual se le va a aplicar el método de\n",
        "  Newton-Raphson para hallar una raíz cerca al punto x0\"\"\"\n",
        "  return 3*x**2-2*m.cos(x)\n",
        "\n",
        "#Punto de partida (semilla)\n",
        "x0 = 1.5\n",
        "\n",
        "#Precisión requerida\n",
        "eps = 0.000001\n",
        "\n",
        "#Número máximo de iteraciones\n",
        "N = 100\n",
        "\n",
        "delta = 0.0001\n",
        "\n",
        "n = 0\n",
        "\n",
        "fx = f(x0)\n",
        "gx = g(x0)\n",
        "\n",
        "if abs(gx) < delta:\n",
        "  print('Derivada muy pequeña. Elige otro punto de partida.')\n",
        "  exit()\n",
        "\n",
        "print('{0:<5}{1:<20.8e}{2:<20.8e}{3:<20.8e}'.format(n,x0,fx,gx))\n",
        "\n",
        "n += 1\n",
        "d = fx/gx\n",
        "x = x0 - d\n",
        "fx = f(x)\n",
        "gx = g(x)\n",
        "error = abs(d)\n",
        "\n",
        "print('{0:<5}{1:<20.8e}{2:<20.8e}{3:<20.8e}{4:<20.8e}'.format(n,x,fx,gx,error))\n",
        "\n",
        "while error > eps and n < N:\n",
        "  n += 1\n",
        "  d = fx/gx\n",
        "  x = x - d\n",
        "  fx = f(x)\n",
        "  gx = g(x)\n",
        "  error = abs(d)\n",
        "  print('{0:<5}{1:<20.8e}{2:<20.8e}{3:<20.8e}{4:<20.8e}'.format(n,x,fx,gx,error))\n",
        "\n",
        "print('\\n¡Convergencia! Se ha alcanzado la precisión requerida.')\n"
      ]
    }
  ]
}