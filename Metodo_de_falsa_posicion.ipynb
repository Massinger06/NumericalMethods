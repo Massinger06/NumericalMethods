{
  "nbformat": 4,
  "nbformat_minor": 0,
  "metadata": {
    "colab": {
      "provenance": [],
      "include_colab_link": true
    },
    "kernelspec": {
      "name": "python3",
      "display_name": "Python 3"
    },
    "language_info": {
      "name": "python"
    }
  },
  "cells": [
    {
      "cell_type": "markdown",
      "metadata": {
        "id": "view-in-github",
        "colab_type": "text"
      },
      "source": [
        "<a href=\"https://colab.research.google.com/github/Massinger06/NumericalMethods/blob/main/Metodo_de_falsa_posicion.ipynb\" target=\"_parent\"><img src=\"https://colab.research.google.com/assets/colab-badge.svg\" alt=\"Open In Colab\"/></a>"
      ]
    },
    {
      "cell_type": "code",
      "execution_count": null,
      "metadata": {
        "id": "g509isbPP5ND",
        "colab": {
          "base_uri": "https://localhost:8080/"
        },
        "outputId": "fce57c88-8c6c-4f19-828e-fedd14e6e891"
      },
      "outputs": [
        {
          "output_type": "stream",
          "name": "stdout",
          "text": [
            "1    5.0000000e-01  -8.3385108e-01 2.0000000e+00  6.1814051e+00    6.7829379e-01  -9.4285973e-01  1.5000000e+00    \n",
            "2    6.7829379e-01  -9.4285973e-01 2.0000000e+00  6.1814051e+00    8.5321479e-01  -8.8567701e-01  1.7492100e-01    \n",
            "3    8.5321479e-01  -8.8567701e-01 2.0000000e+00  6.1814051e+00    9.9693483e-01  -6.8878919e-01  1.4372003e-01    \n",
            "4    9.9693483e-01  -6.8878919e-01 2.0000000e+00  6.1814051e+00    1.0974997e+00  -4.5819628e-01  1.0056491e-01    \n",
            "5    1.0974997e+00  -4.5819628e-01 2.0000000e+00  6.1814051e+00    1.1597809e+00  -2.7341941e-01  6.2281188e-02    \n",
            "6    1.1597809e+00  -2.7341941e-01 2.0000000e+00  6.1814051e+00    1.1953717e+00  -1.5262127e-01  3.5590774e-02    \n",
            "7    1.1953717e+00  -1.5262127e-01 2.0000000e+00  6.1814051e+00    1.2147596e+00  -8.2022385e-02  1.9387888e-02    \n",
            "8    1.2147596e+00  -8.2022385e-02 2.0000000e+00  6.1814051e+00    1.2250427e+00  -4.3182920e-02  1.0283074e-02    \n",
            "9    1.2250427e+00  -4.3182920e-02 2.0000000e+00  6.1814051e+00    1.2304189e+00  -2.2488534e-02  5.3762466e-03    \n",
            "10   1.2304189e+00  -2.2488534e-02 2.0000000e+00  6.1814051e+00    1.2332086e+00  -1.1645011e-02  2.7896595e-03    \n",
            "11   1.2332086e+00  -1.1645011e-02 2.0000000e+00  6.1814051e+00    1.2346504e+00  -6.0122575e-03  1.4418250e-03    \n",
            "12   1.2346504e+00  -6.0122575e-03 2.0000000e+00  6.1814051e+00    1.2353941e+00  -3.0993693e-03  7.4368329e-04    \n",
            "13   1.2353941e+00  -3.0993693e-03 2.0000000e+00  6.1814051e+00    1.2357773e+00  -1.5964956e-03  3.8318286e-04    \n",
            "14   1.2357773e+00  -1.5964956e-03 2.0000000e+00  6.1814051e+00    1.2359746e+00  -8.2202735e-04  1.9732782e-04    \n",
            "15   1.2359746e+00  -8.2202735e-04 2.0000000e+00  6.1814051e+00    1.2360762e+00  -4.2316938e-04  1.0158957e-04    \n",
            "16   1.2360762e+00  -4.2316938e-04 2.0000000e+00  6.1814051e+00    1.2361285e+00  -2.1781891e-04  5.2293457e-05    \n",
            "17   1.2361285e+00  -2.1781891e-04 2.0000000e+00  6.1814051e+00    1.2361554e+00  -1.1211221e-04  2.6916178e-05    \n",
            "18   1.2361554e+00  -1.1211221e-04 2.0000000e+00  6.1814051e+00    1.2361692e+00  -5.7702938e-05  1.3853607e-05    \n",
            "19   1.2361692e+00  -5.7702938e-05 2.0000000e+00  6.1814051e+00    1.2361764e+00  -2.9698640e-05  7.1302344e-06    \n",
            "20   1.2361764e+00  -2.9698640e-05 2.0000000e+00  6.1814051e+00    1.2361800e+00  -1.5285228e-05  3.6697828e-06    \n",
            "21   1.2361800e+00  -1.5285228e-05 2.0000000e+00  6.1814051e+00    1.2361819e+00  -7.8669358e-06  1.8887507e-06    \n",
            "22   1.2361819e+00  -7.8669358e-06 2.0000000e+00  6.1814051e+00    1.2361829e+00  -4.0489128e-06  9.7209291e-07    \n",
            "\n",
            "Se ha alcanzado la precisión requerida.\n"
          ]
        }
      ],
      "source": [
        "import math\n",
        "def f(x):\n",
        "    \"\"\"Función a la cual se le va a aplicar el método de falsa posición\n",
        "    para hallar una raíz en el intervalo [a,b]\"\"\"\n",
        "    return x**3 -2*math.sin(x)\n",
        "\n",
        "#intervalo inicial\n",
        "a = 0.5\n",
        "b = 2.0\n",
        "\n",
        "fa = f(a)\n",
        "fb = f(b)\n",
        "\n",
        "#Precisión requerida\n",
        "eps = 1.0*10**-6\n",
        "\n",
        "if fa*fb > 0:\n",
        "  print(a,b,fa,fb)\n",
        "  print('La función f tiene el mismo signo en a y en b.')\n",
        "  print('Elige otros valores para a y b tal que f tome signos opuestos.')\n",
        "  exit()\n",
        "\n",
        "n = 1\n",
        "c = (a*fb-b*fa)/(fb-fa)\n",
        "fc = f(c)\n",
        "error = abs(b-a)\n",
        "print('{0:<5}{1:<15.7e}{2:<15.7e}{3:<15.7e}{4:<17.7e}{5:<15.7e}{6:<16.7e}{7:<17.7e}'.format(n,a,fa,b,fb,c,fc,error))\n",
        "\n",
        "while error > eps:\n",
        "  d = c\n",
        "  if fa*fc <  0:\n",
        "    b = c\n",
        "    fb = fc\n",
        "  else:\n",
        "    a = c\n",
        "    fa = fc\n",
        "  n += 1\n",
        "  c = (a*fb-b*fa)/(fb-fa)\n",
        "  fc = f(c)\n",
        "  error = abs(c-d)\n",
        "  print('{0:<5}{1:<15.7e}{2:<15.7e}{3:<15.7e}{4:<17.7e}{5:<15.7e}{6:<16.7e}{7:<17.7e}'.format(n,a,fa,b,fb,c,fc,error))\n",
        "\n",
        "print('\\nSe ha alcanzado la precisión requerida.')"
      ]
    }
  ]
}