{
  "cells": [
    {
      "cell_type": "markdown",
      "metadata": {
        "id": "view-in-github",
        "colab_type": "text"
      },
      "source": [
        "<a href=\"https://colab.research.google.com/github/Massinger06/NumericalMethods/blob/main/Metodo_de_la_secante.ipynb\" target=\"_parent\"><img src=\"https://colab.research.google.com/assets/colab-badge.svg\" alt=\"Open In Colab\"/></a>"
      ]
    },
    {
      "cell_type": "code",
      "execution_count": null,
      "metadata": {
        "id": "JijhL5IuaRnn",
        "colab": {
          "base_uri": "https://localhost:8080/"
        },
        "outputId": "cc6548cd-f129-4be8-f55c-4816fd83faa2"
      },
      "outputs": [
        {
          "output_type": "stream",
          "name": "stdout",
          "text": [
            "0    8.00000000e-01      -9.22712182e-01     \n",
            "1    1.00000000e+00      -6.82941970e-01     2.00000000e-01      \n",
            "2    1.56966373e+00      1.86740822e+00      5.69663732e-01      \n",
            "3    1.15254661e+00      -2.96601414e-01     4.17117124e-01      \n",
            "4    1.20971712e+00      -1.00713422e-01     5.71705075e-02      \n",
            "5    1.23911064e+00      1.15349535e-02      2.93935192e-02      \n",
            "6    1.23609008e+00      -3.68577407e-04     3.02055932e-03      \n",
            "7    1.23618360e+00      -1.27468315e-06     9.35277044e-05      \n",
            "8    1.23618393e+00      1.41740619e-10      3.24577469e-07      \n",
            "\n",
            "Se ha alcanzado la precisión requerida.\n"
          ]
        }
      ],
      "source": [
        "import math as m\n",
        "\n",
        "def f(x):\n",
        "  \"\"\"Función a la cual se le va a aplicar el método de la secante para\n",
        "  hallar una raíz en el intervalo [a,b]\"\"\"\n",
        "  return x**3-2*m.sin(x)\n",
        "\n",
        "#Precisión requerida\n",
        "eps = 0.000001\n",
        "\n",
        "#Semillas\n",
        "x0 = 0.8\n",
        "x1 = 1.0\n",
        "\n",
        "#Error inicial\n",
        "error = abs(x1-x0)\n",
        "\n",
        "print('{0:<5}{1:<20.8e}{2:<20.8e}'.format(0,x0,f(x0)))\n",
        "print('{0:<5}{1:<20.8e}{2:<20.8e}{3:<20.8e}'.format(1,x1,f(x1),error))\n",
        "\n",
        "np1 = 1\n",
        "\n",
        "#Número máximo de iteraciones\n",
        "N = 100\n",
        "\n",
        "while  error > eps and np1 < N:\n",
        "  np1 += 1\n",
        "  xnm1 = x0\n",
        "  fxnm1 = f(xnm1)\n",
        "  xn = x1\n",
        "  fxn = f(xn)\n",
        "  xnp1 = xn - ((xn-xnm1)/(fxn-fxnm1))*fxn\n",
        "  fxnp1 = f(xnp1)\n",
        "  error = abs(xnp1-xn)\n",
        "  print('{0:<5}{1:<20.8e}{2:<20.8e}{3:<20.8e}'.format(np1,xnp1,fxnp1,error))\n",
        "  x0 = xn\n",
        "  x1 = xnp1\n",
        "\n",
        "if error <= eps:\n",
        "  print('\\nSe ha alcanzado la precisión requerida.')\n",
        "else:\n",
        "  print('\\nNo se alcanzó la precisión deseada.')"
      ]
    }
  ],
  "metadata": {
    "colab": {
      "provenance": [],
      "include_colab_link": true
    },
    "kernelspec": {
      "display_name": "Python 3",
      "name": "python3"
    },
    "language_info": {
      "name": "python"
    }
  },
  "nbformat": 4,
  "nbformat_minor": 0
}