{
  "nbformat": 4,
  "nbformat_minor": 0,
  "metadata": {
    "colab": {
      "provenance": [],
      "include_colab_link": true
    },
    "kernelspec": {
      "name": "python3",
      "display_name": "Python 3"
    },
    "language_info": {
      "name": "python"
    }
  },
  "cells": [
    {
      "cell_type": "markdown",
      "metadata": {
        "id": "view-in-github",
        "colab_type": "text"
      },
      "source": [
        "<a href=\"https://colab.research.google.com/github/Massinger06/NumericalMethods/blob/main/Metodo_de_la_biseccion.ipynb\" target=\"_parent\"><img src=\"https://colab.research.google.com/assets/colab-badge.svg\" alt=\"Open In Colab\"/></a>"
      ]
    },
    {
      "cell_type": "code",
      "execution_count": null,
      "metadata": {
        "colab": {
          "base_uri": "https://localhost:8080/"
        },
        "id": "EA_C0PcnbQSD",
        "outputId": "50d97c00-2118-4d6b-88f3-27a027e057ec"
      },
      "outputs": [
        {
          "output_type": "stream",
          "name": "stdout",
          "text": [
            "1    5.0000000e-01  -8.3385108e-01   2.0000000e+00  6.1814051e+00    1.2500000e+00  5.5155761e-02   7.5000000e-01    \n",
            "2    5.0000000e-01  -8.3385108e-01   1.2500000e+00  5.5155761e-02    8.7500000e-01  -8.6516513e-01  3.7500000e-01    \n",
            "3    8.7500000e-01  -8.6516513e-01   1.2500000e+00  5.5155761e-02    1.0625000e+00  -5.4768698e-01  1.8750000e-01    \n",
            "4    1.0625000e+00  -5.4768698e-01   1.2500000e+00  5.5155761e-02    1.1562500e+00  -2.8479140e-01  9.3750000e-02    \n",
            "5    1.1562500e+00  -2.8479140e-01   1.2500000e+00  5.5155761e-02    1.2031250e+00  -1.2479862e-01  4.6875000e-02    \n",
            "6    1.2031250e+00  -1.2479862e-01   1.2500000e+00  5.5155761e-02    1.2265625e+00  -3.7359807e-02  2.3437500e-02    \n",
            "7    1.2265625e+00  -3.7359807e-02   1.2500000e+00  5.5155761e-02    1.2382812e+00  8.2580159e-03   1.1718750e-02    \n",
            "8    1.2265625e+00  -3.7359807e-02   1.2382812e+00  8.2580159e-03    1.2324219e+00  -1.4710216e-02  5.8593750e-03    \n",
            "9    1.2324219e+00  -1.4710216e-02   1.2382812e+00  8.2580159e-03    1.2353516e+00  -3.2660142e-03  2.9296875e-03    \n",
            "10   1.2353516e+00  -3.2660142e-03   1.2382812e+00  8.2580159e-03    1.2368164e+00  2.4860119e-03   1.4648438e-03    \n",
            "11   1.2353516e+00  -3.2660142e-03   1.2368164e+00  2.4860119e-03    1.2360840e+00  -3.9249707e-04  7.3242188e-04    \n",
            "12   1.2360840e+00  -3.9249707e-04   1.2368164e+00  2.4860119e-03    1.2364502e+00  1.0461333e-03   3.6621094e-04    \n",
            "13   1.2360840e+00  -3.9249707e-04   1.2364502e+00  1.0461333e-03    1.2362671e+00  3.2666209e-04   1.8310547e-04    \n",
            "14   1.2360840e+00  -3.9249707e-04   1.2362671e+00  3.2666209e-04    1.2361755e+00  -3.2956493e-05  9.1552734e-05    \n",
            "15   1.2361755e+00  -3.2956493e-05   1.2362671e+00  3.2666209e-04    1.2362213e+00  1.4684305e-04   4.5776367e-05    \n",
            "16   1.2361755e+00  -3.2956493e-05   1.2362213e+00  1.4684305e-04    1.2361984e+00  5.6940839e-05   2.2888184e-05    \n",
            "17   1.2361755e+00  -3.2956493e-05   1.2361984e+00  5.6940839e-05    1.2361870e+00  1.1991564e-05   1.1444092e-05    \n",
            "18   1.2361755e+00  -3.2956493e-05   1.2361870e+00  1.1991564e-05    1.2361813e+00  -1.0482617e-05  5.7220459e-06    \n",
            "19   1.2361813e+00  -1.0482617e-05   1.2361870e+00  1.1991564e-05    1.2361841e+00  7.5443529e-07   2.8610229e-06    \n",
            "20   1.2361813e+00  -1.0482617e-05   1.2361841e+00  7.5443529e-07    1.2361827e+00  -4.8641003e-06  1.4305115e-06    \n",
            "21   1.2361827e+00  -4.8641003e-06   1.2361841e+00  7.5443529e-07    1.2361834e+00  -2.0548349e-06  7.1525574e-07    \n",
            "\n",
            "Se ha alcanzado la precisión requerida.\n",
            "\n",
            "El número mínimo de iteraciones es  19.516531070045332\n"
          ]
        }
      ],
      "source": [
        "import math as m\n",
        "\n",
        "def f(x):\n",
        "    \"\"\"Función a la cual se le va a aplicar el método de bisección para\n",
        "    hallar una raíz en el intervalo [a,b]\"\"\"\n",
        "    return x**3-2*m.sin(x)\n",
        "\n",
        "#intervalo inicial\n",
        "a = 0.5\n",
        "b = 2.0\n",
        "\n",
        "fa = f(a)\n",
        "fb = f(b)\n",
        "\n",
        "#Precisión requerida\n",
        "eps = 1.0*10**-6\n",
        "\n",
        "if fa*fb > 0:\n",
        "  print(a,b,fa,fb)\n",
        "  print('La función f tiene el mismo signo en a y en b.')\n",
        "  print('Elige otros valores para a y b tal que f tome signos opuestos.')\n",
        "  exit()\n",
        "\n",
        "#Número mínimo de interaciones\n",
        "N = m.log(b-a,2)-m.log(2*eps,2)\n",
        "\n",
        "error = abs(b-a)\n",
        "\n",
        "n = 0\n",
        "\n",
        "while error > eps:\n",
        "  n += 1\n",
        "  error = 0.5*error\n",
        "  c = a + error\n",
        "  fc = f(c)\n",
        "  print('{0:<5}{1:<15.7e}{2:<17.7e}{3:<15.7e}{4:<17.7e}{5:<15.7e}{6:<16.7e}{7:<17.7e}'.format(n,a,fa,b,fb,c,fc,error))\n",
        "  if fa*fc < 0:\n",
        "    b = c\n",
        "    fb = fc\n",
        "  else:\n",
        "    a = c\n",
        "    fa = fc\n",
        "  error = abs(b-a)\n",
        "\n",
        "print('\\nSe ha alcanzado la precisión requerida.')\n",
        "print('\\nEl número mínimo de iteraciones es ', N)"
      ]
    }
  ]
}